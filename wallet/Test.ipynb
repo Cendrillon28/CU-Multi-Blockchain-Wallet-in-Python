{
 "cells": [
  {
   "cell_type": "code",
   "execution_count": 3,
   "metadata": {},
   "outputs": [
    {
     "name": "stdout",
     "output_type": "stream",
     "text": [
      "\n",
      "+-----------------+------------------------------------+------------------------------------------------------+--------------------------------------------------------------------+\n",
      "| path            | address                            | privkey                                              | pubkey                                                             |\n",
      "+-----------------+------------------------------------+------------------------------------------------------+--------------------------------------------------------------------+\n",
      "| m/44'/0'/0'/0/0 | 1D6NPB4hFAECD485VWkd5CAtFVH5MgsZaR | L2oJnno97SXjw891VqvpnUcXNe7tV7QtbakCqymgCaAaLnCqZ3RH | 03a3243711d8406ae9216743939430fbc55461559b40263fb3f62bee7207579b87 |\n",
      "| m/44'/0'/0'/0/1 | 1E2fr6JaRxpyUA9mQt9twLYWNKY5aPbGH4 | L5E5aSCNeayyaj6QQunwfK7Avcy3rabbnyVo2wryGeYWX1k8GRGn | 0210bc58ae9d188880aa60de6938756b9241e6cebfa49fa396241b980e634c3dbd |\n",
      "| m/44'/0'/0'/0/2 | 1A3hDYsbsXGp4t3epgXicdRf1sWckS8BbP | Kx2MZ2MUMm96oZWe3Uueo4BUm3rxsby1rXS1AGXvbdkv3gXHQrbF | 021662ee772f0895529b0722617028d55362f68d801c4ff72581f1dcc20badeb45 |\n",
      "| m/44'/0'/0'/0/3 | 15bJYkuqrx24A7FELMB5JDAbfqQhkwgm9n | KzfUKqPxQCZCFcKCa3Gy3eW8YE4f1o88rWUNG2BvHcz7hDJwmju8 | 0205449748d19bae610c66b0780029445271fdf6ff2bce4a847c1f90457893f1bd |\n",
      "| m/44'/0'/0'/0/4 | 1CuCgKnr7FQ6Bc8cPQjxESw7HxcWffFdBq | L2bkbfHXv5vG59obLFgFQ5x6GV5BMQcgijARxp2VrEEHXrL4pktL | 03b3514a165c9270cc3712345a5702a1bf693ce9f3825357bd7e89ba0b0d2d976b |\n",
      "| m/44'/0'/0'/0/5 | 1KtBkYxDLzo561njUXAcAfVXMxF6dE35b  | KzzAkTNDRZccc7H55rgF4Hix7rBb6nenaJnCaNkxpN8VxpgqphNP | 02d9cc200d793ecb3e98bc9f1cef56c7f63ed8b0d90106450b876b97d0b482ef32 |\n",
      "| m/44'/0'/0'/0/6 | 1BUGC6B9SHTCyJcvuA3nJrm5c8NwrNEDWR | KwjLB3rzpzb94s5wq7pHE2zDVHo6PvM3Qi22cz5rw3uTCViy6yC9 | 037e1b94b16cf3d93e8761568b1bfc68070326ef6f6c21a1a393325ed1cbbd4806 |\n",
      "| m/44'/0'/0'/0/7 | 1LhWBxQ7cfwbqXi3trcnNRfTyoB4SPomHs | L567s2pwLbb9wVSRSK5hsjVCAhDiKJtYGAcDQTtbDtH6Se68NG9j | 03ff2a19d46917841ecec19059a88efbf83a669a56d8bf2d5d58390cbede5a15f6 |\n",
      "| m/44'/0'/0'/0/8 | 1L1aHWmrjTHwmmRtwZfZNdnRd7UG5PFmP4 | L1SDKAxmkbpTkEYivGxPUCiMm5MyGv9pvgWQHWFuR4vMimjPHCag | 030fa2c9616b3e742254d59ae650b05d6b87b1cbb58df93f6db3bde55d08219cca |\n",
      "| m/44'/0'/0'/0/9 | 1CFvWzXyCqgYY2r1U4AWh438u44EYa2YpR | L3bCMg3UDkvEwrbwKVgwYQt7HFz3LNkJ8FYNC2DVe1JMYrhyPvUC | 0334bccef1f4db42ebc4ba228a221cbf02415a7afb03f1b973e236793fd4f748cc |\n",
      "+-----------------+------------------------------------+------------------------------------------------------+--------------------------------------------------------------------+\n",
      "\n"
     ]
    }
   ],
   "source": [
    "!php hd-wallet-derive/hd-wallet-derive.php -g --mnemonic=\"beyond item dignity jungle address attract smile then popular eyebrow slender buddy\" --cols=path,address,privkey,pubkey\n"
   ]
  },
  {
   "cell_type": "code",
   "execution_count": null,
   "metadata": {},
   "outputs": [],
   "source": []
  }
 ],
 "metadata": {
  "kernelspec": {
   "display_name": "Python 3",
   "language": "python",
   "name": "python3"
  },
  "language_info": {
   "codemirror_mode": {
    "name": "ipython",
    "version": 3
   },
   "file_extension": ".py",
   "mimetype": "text/x-python",
   "name": "python",
   "nbconvert_exporter": "python",
   "pygments_lexer": "ipython3",
   "version": "3.7.9"
  }
 },
 "nbformat": 4,
 "nbformat_minor": 4
}
